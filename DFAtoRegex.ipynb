{
  "cells": [
    {
      "cell_type": "code",
      "execution_count": null,
      "metadata": {
        "id": "qQqHwJ7FNY23"
      },
      "outputs": [],
      "source": [
        "!pip install streamlit\n",
        "!pip install pyngrok\n",
        "!pip install graphviz"
      ]
    },
    {
      "cell_type": "code",
      "execution_count": null,
      "metadata": {
        "colab": {
          "base_uri": "https://localhost:8080/"
        },
        "id": "KgXufggqMfia",
        "outputId": "46c86d69-77d1-4523-8618-20a70583d3e2"
      },
      "outputs": [
        {
          "name": "stdout",
          "output_type": "stream",
          "text": [
            "Writing sim1.py\n"
          ]
        }
      ],
      "source": [
        "%%writefile sim1.py\n",
        "import streamlit as st\n",
        "# CONVERT DFA TO REGEX\n",
        "import graphviz as gv\n",
        "import json\n",
        "import sys\n",
        "\n",
        "def join(string1, string2):\n",
        "    if string1 == '$':\n",
        "        return string2\n",
        "    if string2 == '$':\n",
        "        return string1\n",
        "    return string1 + string2\n",
        "\n",
        "\n",
        "# remove dead states\n",
        "\n",
        "def resolve_dead(delta, DFA):\n",
        "    check = {}\n",
        "    for state in DFA['states']:\n",
        "        check.update({state: False})\n",
        "    for state in DFA['start_states']:\n",
        "        check[state] = True\n",
        "    for edge in delta:\n",
        "        check[edge[2]] = True\n",
        "    return [edge for edge in delta if check[edge[0]]], [state for state in check if check[state]]\n",
        "\n",
        "\n",
        "# simplifty parallel edges\n",
        "\n",
        "def resolve_parallel(delta):\n",
        "    hist = []\n",
        "    n = len(delta)\n",
        "    for i in range(n):\n",
        "        for j in range(i+1, n):\n",
        "            if delta[i][0] == delta[j][0] and delta[i][2] == delta[j][2]:\n",
        "                new_edge = [\n",
        "                    delta[i][0], '(' + delta[i][1] + '+' + delta[j][1] + ')', delta[i][2]]\n",
        "                delta.remove(delta[j])\n",
        "                delta.append(new_edge)\n",
        "                hist.append(delta[i])\n",
        "                i += 1\n",
        "    for old_edge in hist:\n",
        "        if old_edge in delta:\n",
        "            delta.remove(old_edge)\n",
        "    return delta\n",
        "\n",
        "\n",
        "# removing self-loops\n",
        "\n",
        "def resolve_selfloops(delta):\n",
        "    loops = []\n",
        "    for edge in delta[:]:\n",
        "        if edge[0] == edge[2]:\n",
        "            loops.append(edge)\n",
        "            delta.remove(edge)\n",
        "    for loop in loops:\n",
        "        for i, edge in enumerate(delta):\n",
        "            if loop[0] == edge[0]:\n",
        "                delta[i][1] = join('(' + loop[1] + ')*', edge[1])\n",
        "    return delta\n",
        "\n",
        "\n",
        "def remove_state(state, delta):\n",
        "    incoming = [edge for edge in delta if edge[2] == state]\n",
        "    outgoing = [edge for edge in delta if edge[0] == state]\n",
        "    for edge in (incoming + outgoing):\n",
        "        delta.remove(edge)\n",
        "    for inedge in incoming:\n",
        "        for outedge in outgoing:\n",
        "            edge = [inedge[0], join(inedge[1], outedge[1]), outedge[2]]\n",
        "            delta.append(edge)\n",
        "    delta = resolve_parallel(delta)\n",
        "    delta = resolve_selfloops(delta)\n",
        "    return delta\n",
        "\n",
        "\n",
        "def dfatoregex(DFA):\n",
        "    delta = DFA['transition_function'].copy()\n",
        "\n",
        "    # STEP ZERO: remove dead states\n",
        "\n",
        "    delta, valid_states = resolve_dead(delta, DFA)\n",
        "\n",
        "    # STEP ONE: NEW INITIAL AND FINAL STATES\n",
        "\n",
        "    start = 'Qs'\n",
        "    final = 'Qf'\n",
        "\n",
        "    for s in DFA['start_states']:\n",
        "        delta.append([start, '$', s])\n",
        "    for f in DFA['final_states']:\n",
        "        delta.append([f, '$', final])\n",
        "\n",
        "    # STEP TWO: simplify parallel edges\n",
        "\n",
        "    delta = resolve_parallel(delta)\n",
        "\n",
        "    # STEP THREE: removing self-loops\n",
        "\n",
        "    delta = resolve_selfloops(delta)\n",
        "\n",
        "    for state in valid_states:\n",
        "        delta = remove_state(state, delta)\n",
        "\n",
        "    # regex = {'regex': delta[0][1]}\n",
        "    # output = json.dumps(regex, indent=4)\n",
        "    return delta[0][1]\n",
        "\n",
        "def visualize_finite_automata(data):\n",
        "    states = data['states']\n",
        "    letters = data['letters']\n",
        "    transitions = data['transition_function']\n",
        "    start_states = data['start_states']\n",
        "    final_states = data['final_states']\n",
        "\n",
        "    # Convert final state 2D list to comma-separated string\n",
        "    for i, state in enumerate(final_states):\n",
        "        if isinstance(state, list):\n",
        "            final_states[i] = \",\".join(state)\n",
        "            \n",
        "    # Rename 2D array of states as 1 state\n",
        "    for i, state in enumerate(states):\n",
        "        if isinstance(state, list):\n",
        "            states[i] = \",\".join(state)\n",
        "\n",
        "    # Rename 2D array of states as 1 state in transition_function\n",
        "    for i, transition in enumerate(transitions):\n",
        "        if isinstance(transition[0], list):\n",
        "            transitions[i][0] = \",\".join(transition[0])\n",
        "        if isinstance(transition[2], list):\n",
        "            transitions[i][2] = \",\".join(transition[2])\n",
        "\n",
        "    # Initialize the graph\n",
        "    graph = gv.Digraph(format='svg')\n",
        "    graph.attr(rankdir='LR')\n",
        "\n",
        "    # Add nodes\n",
        "    for state in states:\n",
        "        if state in final_states:\n",
        "            graph.node(state, shape='doublecircle')\n",
        "        else:\n",
        "            graph.node(state)\n",
        "\n",
        "    # Add edges\n",
        "    for transition in transitions:\n",
        "        start_state, letter, end_state = transition\n",
        "        if letter == \"$\":\n",
        "            graph.edge(start_state, end_state, label=\"ε\")\n",
        "        else:\n",
        "            graph.edge(start_state, end_state, label=letter)\n",
        "\n",
        "    # Return the graph object\n",
        "    return graph\n",
        "\n",
        "# Set the page width to a high value\n",
        "st.set_page_config(page_title=\"DFA to REGEX Converter\", layout=\"wide\", initial_sidebar_state=\"collapsed\")\n",
        "\n",
        "# Streamlit app\n",
        "st.title(\"DFA to REGEX Converter\")\n",
        "\n",
        "# Upload JSON files\n",
        "# file1 = st.file_uploader(\"Upload JSON file for automata 1\", type=[\"json\"])\n",
        "with st.sidebar:\n",
        "    st.header(\"Input\")\n",
        "    file1 = st.file_uploader(\"Upload JSON file for Given DFA\", type=[\"json\"])\n",
        "\n",
        "if file1 is not None:\n",
        "    # Load JSON data\n",
        "    data1 = json.load(file1)\n",
        "    regex_pattern=dfatoregex(data1)\n",
        "\n",
        "    # Display the finite automata diagrams side by side\n",
        "    col1, col2 = st.columns(2)\n",
        "\n",
        "    # Create the graphs\n",
        "    graph1 = visualize_finite_automata(data1)\n",
        "\n",
        "    # Display the graphs in the columns\n",
        "    with col1:\n",
        "        st.header(\"Input (DFA)\")\n",
        "        st.graphviz_chart(graph1, use_container_width=True)\n",
        "    with col2:\n",
        "        st.header(\"Output (REGEX of Given DFA)\")\n",
        "        # regex_pattern = \"(1((0+1))**+00((0+1))**)\"\n",
        "        escaped_pattern = regex_pattern.replace(\"*\", \"<sup>&#42;</sup>\")\n",
        "        st.markdown(f\"<code style='background-color: white; font-size: 20px'>{escaped_pattern}</code>\", unsafe_allow_html=True)\n",
        "# st.markdown(\"---\")\n",
        "# st.write(\"Created by Het Patel\")\n"
      ]
    },
    {
      "cell_type": "code",
      "execution_count": null,
      "metadata": {
        "colab": {
          "base_uri": "https://localhost:8080/"
        },
        "id": "BfSg-11eNi_W",
        "outputId": "44a6865a-0fa0-4ff0-e131-ac29ecaf2f87"
      },
      "outputs": [
        {
          "name": "stdout",
          "output_type": "stream",
          "text": [
            "sample_data  sim1.py\n"
          ]
        }
      ],
      "source": [
        "!ls"
      ]
    },
    {
      "cell_type": "code",
      "execution_count": null,
      "metadata": {
        "colab": {
          "base_uri": "https://localhost:8080/"
        },
        "id": "oUPDrTbNNmKx",
        "outputId": "d40c5c43-04f4-4396-eaf8-79c3175a8dff"
      },
      "outputs": [
        {
          "name": "stdout",
          "output_type": "stream",
          "text": [
            "Authtoken saved to configuration file: /root/.ngrok2/ngrok.yml\n"
          ]
        }
      ],
      "source": [
        "!ngrok authtoken XXXXX"
      ]
    },
    {
      "cell_type": "code",
      "execution_count": null,
      "metadata": {
        "id": "MPD5SgxnNme7"
      },
      "outputs": [],
      "source": [
        "!ngrok"
      ]
    },
    {
      "cell_type": "code",
      "execution_count": null,
      "metadata": {
        "id": "qZKUX2ALNosU"
      },
      "outputs": [],
      "source": [
        "from pyngrok import ngrok"
      ]
    },
    {
      "cell_type": "code",
      "execution_count": null,
      "metadata": {
        "id": "3ggAi0TPNrJL"
      },
      "outputs": [],
      "source": [
        "!pgrep streamlit"
      ]
    },
    {
      "cell_type": "code",
      "execution_count": null,
      "metadata": {
        "colab": {
          "background_save": true
        },
        "id": "lHDWywdyNsmS"
      },
      "outputs": [],
      "source": [
        "!streamlit run sim1.py & npx localtunnel --port 8501"
      ]
    }
  ],
  "metadata": {
    "colab": {
      "provenance": []
    },
    "kernelspec": {
      "display_name": "Python 3",
      "name": "python3"
    },
    "language_info": {
      "name": "python"
    }
  },
  "nbformat": 4,
  "nbformat_minor": 0
}